{
 "cells": [
  {
   "cell_type": "code",
   "execution_count": 1,
   "metadata": {},
   "outputs": [],
   "source": [
    "from pytrends.request import TrendReq\n",
    "import pandas as pd\n",
    "import numpy as np"
   ]
  },
  {
   "cell_type": "code",
   "execution_count": 4,
   "metadata": {},
   "outputs": [],
   "source": [
    "disease_data = pd.read_csv('diseases.csv')\n",
    "disease_data.drop_duplicates(inplace = True)"
   ]
  },
  {
   "cell_type": "code",
   "execution_count": 9,
   "metadata": {},
   "outputs": [],
   "source": [
    "diseases = []\n",
    "for value in data2['name']:\n",
    "    diseases.append(value)\n",
    "diseases = diseases[1:]\n",
    "diseases = list(dict.fromkeys(diseases))\n"
   ]
  },
  {
   "cell_type": "code",
   "execution_count": 10,
   "metadata": {},
   "outputs": [],
   "source": [
    "pytrend = TrendReq(hl = 'en-US', tz = 360)"
   ]
  },
  {
   "cell_type": "code",
   "execution_count": 11,
   "metadata": {},
   "outputs": [],
   "source": [
    "frame = pd.DataFrame()"
   ]
  },
  {
   "cell_type": "code",
   "execution_count": null,
   "metadata": {},
   "outputs": [],
   "source": [
    "for i in range(0,237,4):\n",
    "    if i < len(diseases):\n",
    "        pytrend.build_payload(kw_list = diseases[i:i+5], timeframe='all')\n",
    "        iot = pytrend.interest_over_time()\n",
    "        ior=pytrend.interest_by_region(resolution='DMA', inc_low_vol=True, inc_geo_code=False)\n",
    "    \n",
    "        for cols in ior.columns:\n",
    "            if cols not in frame.columns:\n",
    "                frame[cols] = ior[cols]\n",
    "print(\"Done\")"
   ]
  },
  {
   "cell_type": "code",
   "execution_count": 53,
   "metadata": {},
   "outputs": [
    {
     "data": {
      "text/html": [
       "<div>\n",
       "<style scoped>\n",
       "    .dataframe tbody tr th:only-of-type {\n",
       "        vertical-align: middle;\n",
       "    }\n",
       "\n",
       "    .dataframe tbody tr th {\n",
       "        vertical-align: top;\n",
       "    }\n",
       "\n",
       "    .dataframe thead th {\n",
       "        text-align: right;\n",
       "    }\n",
       "</style>\n",
       "<table border=\"1\" class=\"dataframe\">\n",
       "  <thead>\n",
       "    <tr style=\"text-align: right;\">\n",
       "      <th></th>\n",
       "      <th>AIDS (Acquired Immune Deficiency Syndrome)</th>\n",
       "      <th>ALS (Amyotrophic Lateral Sclerosis)</th>\n",
       "      <th>Abdominal Aortic Aneurysm</th>\n",
       "      <th>African Trypanosomiasis</th>\n",
       "      <th>AHF (Alkhurma hemorrhagic fever)</th>\n",
       "      <th>Alzheimers</th>\n",
       "      <th>Amebiasis</th>\n",
       "      <th>American Trypanosomiasis</th>\n",
       "      <th>Anaplasmosis</th>\n",
       "      <th>Anisakiasis</th>\n",
       "      <th>...</th>\n",
       "      <th>Vaginal and Vulvar Cancers</th>\n",
       "      <th>Valley Fever Coccidioidomycosis</th>\n",
       "      <th>Varicella Disease</th>\n",
       "      <th>Vibriosis</th>\n",
       "      <th>Whitmores Disease</th>\n",
       "      <th>Yellow Fever</th>\n",
       "      <th>Yersiniosis</th>\n",
       "      <th>Zoonotic Hookworm</th>\n",
       "      <th>Zoster</th>\n",
       "      <th>Zygomycosis</th>\n",
       "    </tr>\n",
       "    <tr>\n",
       "      <th>geoName</th>\n",
       "      <th></th>\n",
       "      <th></th>\n",
       "      <th></th>\n",
       "      <th></th>\n",
       "      <th></th>\n",
       "      <th></th>\n",
       "      <th></th>\n",
       "      <th></th>\n",
       "      <th></th>\n",
       "      <th></th>\n",
       "      <th></th>\n",
       "      <th></th>\n",
       "      <th></th>\n",
       "      <th></th>\n",
       "      <th></th>\n",
       "      <th></th>\n",
       "      <th></th>\n",
       "      <th></th>\n",
       "      <th></th>\n",
       "      <th></th>\n",
       "      <th></th>\n",
       "    </tr>\n",
       "  </thead>\n",
       "  <tbody>\n",
       "    <tr>\n",
       "      <td>Abilene-Sweetwater TX</td>\n",
       "      <td>0</td>\n",
       "      <td>0</td>\n",
       "      <td>0</td>\n",
       "      <td>0</td>\n",
       "      <td>0</td>\n",
       "      <td>100</td>\n",
       "      <td>0</td>\n",
       "      <td>0</td>\n",
       "      <td>0</td>\n",
       "      <td>0</td>\n",
       "      <td>...</td>\n",
       "      <td>0</td>\n",
       "      <td>0</td>\n",
       "      <td>0</td>\n",
       "      <td>0</td>\n",
       "      <td>0</td>\n",
       "      <td>0</td>\n",
       "      <td>0</td>\n",
       "      <td>0</td>\n",
       "      <td>100</td>\n",
       "      <td>0</td>\n",
       "    </tr>\n",
       "    <tr>\n",
       "      <td>Ain</td>\n",
       "      <td>0</td>\n",
       "      <td>0</td>\n",
       "      <td>0</td>\n",
       "      <td>0</td>\n",
       "      <td>0</td>\n",
       "      <td>0</td>\n",
       "      <td>0</td>\n",
       "      <td>0</td>\n",
       "      <td>0</td>\n",
       "      <td>0</td>\n",
       "      <td>...</td>\n",
       "      <td>0</td>\n",
       "      <td>0</td>\n",
       "      <td>0</td>\n",
       "      <td>0</td>\n",
       "      <td>0</td>\n",
       "      <td>0</td>\n",
       "      <td>0</td>\n",
       "      <td>0</td>\n",
       "      <td>0</td>\n",
       "      <td>0</td>\n",
       "    </tr>\n",
       "    <tr>\n",
       "      <td>Aisne</td>\n",
       "      <td>0</td>\n",
       "      <td>0</td>\n",
       "      <td>0</td>\n",
       "      <td>0</td>\n",
       "      <td>0</td>\n",
       "      <td>0</td>\n",
       "      <td>0</td>\n",
       "      <td>0</td>\n",
       "      <td>0</td>\n",
       "      <td>0</td>\n",
       "      <td>...</td>\n",
       "      <td>0</td>\n",
       "      <td>0</td>\n",
       "      <td>0</td>\n",
       "      <td>0</td>\n",
       "      <td>0</td>\n",
       "      <td>0</td>\n",
       "      <td>0</td>\n",
       "      <td>0</td>\n",
       "      <td>0</td>\n",
       "      <td>0</td>\n",
       "    </tr>\n",
       "    <tr>\n",
       "      <td>Albany GA</td>\n",
       "      <td>0</td>\n",
       "      <td>0</td>\n",
       "      <td>0</td>\n",
       "      <td>0</td>\n",
       "      <td>0</td>\n",
       "      <td>100</td>\n",
       "      <td>0</td>\n",
       "      <td>0</td>\n",
       "      <td>0</td>\n",
       "      <td>0</td>\n",
       "      <td>...</td>\n",
       "      <td>0</td>\n",
       "      <td>0</td>\n",
       "      <td>0</td>\n",
       "      <td>0</td>\n",
       "      <td>0</td>\n",
       "      <td>0</td>\n",
       "      <td>0</td>\n",
       "      <td>0</td>\n",
       "      <td>0</td>\n",
       "      <td>0</td>\n",
       "    </tr>\n",
       "    <tr>\n",
       "      <td>Albany-Schenectady-Troy NY</td>\n",
       "      <td>0</td>\n",
       "      <td>0</td>\n",
       "      <td>100</td>\n",
       "      <td>0</td>\n",
       "      <td>0</td>\n",
       "      <td>74</td>\n",
       "      <td>0</td>\n",
       "      <td>0</td>\n",
       "      <td>26</td>\n",
       "      <td>0</td>\n",
       "      <td>...</td>\n",
       "      <td>0</td>\n",
       "      <td>0</td>\n",
       "      <td>0</td>\n",
       "      <td>0</td>\n",
       "      <td>0</td>\n",
       "      <td>100</td>\n",
       "      <td>1</td>\n",
       "      <td>0</td>\n",
       "      <td>46</td>\n",
       "      <td>0</td>\n",
       "    </tr>\n",
       "  </tbody>\n",
       "</table>\n",
       "<p>5 rows × 233 columns</p>\n",
       "</div>"
      ],
      "text/plain": [
       "                            AIDS (Acquired Immune Deficiency Syndrome)  \\\n",
       "geoName                                                                  \n",
       "Abilene-Sweetwater TX                                                0   \n",
       "Ain                                                                  0   \n",
       "Aisne                                                                0   \n",
       "Albany GA                                                            0   \n",
       "Albany-Schenectady-Troy NY                                           0   \n",
       "\n",
       "                            ALS (Amyotrophic Lateral Sclerosis)  \\\n",
       "geoName                                                           \n",
       "Abilene-Sweetwater TX                                         0   \n",
       "Ain                                                           0   \n",
       "Aisne                                                         0   \n",
       "Albany GA                                                     0   \n",
       "Albany-Schenectady-Troy NY                                    0   \n",
       "\n",
       "                            Abdominal Aortic Aneurysm  \\\n",
       "geoName                                                 \n",
       "Abilene-Sweetwater TX                               0   \n",
       "Ain                                                 0   \n",
       "Aisne                                               0   \n",
       "Albany GA                                           0   \n",
       "Albany-Schenectady-Troy NY                        100   \n",
       "\n",
       "                            African Trypanosomiasis  \\\n",
       "geoName                                               \n",
       "Abilene-Sweetwater TX                             0   \n",
       "Ain                                               0   \n",
       "Aisne                                             0   \n",
       "Albany GA                                         0   \n",
       "Albany-Schenectady-Troy NY                        0   \n",
       "\n",
       "                            AHF (Alkhurma hemorrhagic fever)  Alzheimers  \\\n",
       "geoName                                                                    \n",
       "Abilene-Sweetwater TX                                      0         100   \n",
       "Ain                                                        0           0   \n",
       "Aisne                                                      0           0   \n",
       "Albany GA                                                  0         100   \n",
       "Albany-Schenectady-Troy NY                                 0          74   \n",
       "\n",
       "                            Amebiasis  American Trypanosomiasis  Anaplasmosis  \\\n",
       "geoName                                                                         \n",
       "Abilene-Sweetwater TX               0                         0             0   \n",
       "Ain                                 0                         0             0   \n",
       "Aisne                               0                         0             0   \n",
       "Albany GA                           0                         0             0   \n",
       "Albany-Schenectady-Troy NY          0                         0            26   \n",
       "\n",
       "                            Anisakiasis  ...  Vaginal and Vulvar Cancers  \\\n",
       "geoName                                  ...                               \n",
       "Abilene-Sweetwater TX                 0  ...                           0   \n",
       "Ain                                   0  ...                           0   \n",
       "Aisne                                 0  ...                           0   \n",
       "Albany GA                             0  ...                           0   \n",
       "Albany-Schenectady-Troy NY            0  ...                           0   \n",
       "\n",
       "                            Valley Fever Coccidioidomycosis  \\\n",
       "geoName                                                       \n",
       "Abilene-Sweetwater TX                                     0   \n",
       "Ain                                                       0   \n",
       "Aisne                                                     0   \n",
       "Albany GA                                                 0   \n",
       "Albany-Schenectady-Troy NY                                0   \n",
       "\n",
       "                            Varicella Disease  Vibriosis  Whitmores Disease  \\\n",
       "geoName                                                                       \n",
       "Abilene-Sweetwater TX                       0          0                  0   \n",
       "Ain                                         0          0                  0   \n",
       "Aisne                                       0          0                  0   \n",
       "Albany GA                                   0          0                  0   \n",
       "Albany-Schenectady-Troy NY                  0          0                  0   \n",
       "\n",
       "                            Yellow Fever  Yersiniosis   Zoonotic Hookworm  \\\n",
       "geoName                                                                     \n",
       "Abilene-Sweetwater TX                  0             0                  0   \n",
       "Ain                                    0             0                  0   \n",
       "Aisne                                  0             0                  0   \n",
       "Albany GA                              0             0                  0   \n",
       "Albany-Schenectady-Troy NY           100             1                  0   \n",
       "\n",
       "                            Zoster  Zygomycosis   \n",
       "geoName                                           \n",
       "Abilene-Sweetwater TX          100             0  \n",
       "Ain                              0             0  \n",
       "Aisne                            0             0  \n",
       "Albany GA                        0             0  \n",
       "Albany-Schenectady-Troy NY      46             0  \n",
       "\n",
       "[5 rows x 233 columns]"
      ]
     },
     "execution_count": 53,
     "metadata": {},
     "output_type": "execute_result"
    }
   ],
   "source": [
    "frame.head()"
   ]
  },
  {
   "cell_type": "code",
   "execution_count": 2,
   "metadata": {},
   "outputs": [
    {
     "ename": "NameError",
     "evalue": "name 'frame' is not defined",
     "output_type": "error",
     "traceback": [
      "\u001b[0;31m---------------------------------------------------------------------------\u001b[0m",
      "\u001b[0;31mNameError\u001b[0m                                 Traceback (most recent call last)",
      "\u001b[0;32m<ipython-input-2-fe2bc57f5e1f>\u001b[0m in \u001b[0;36m<module>\u001b[0;34m\u001b[0m\n\u001b[0;32m----> 1\u001b[0;31m \u001b[0mframe\u001b[0m\u001b[0;34m.\u001b[0m\u001b[0mto_csv\u001b[0m\u001b[0;34m(\u001b[0m\u001b[0;34m'data.csv'\u001b[0m\u001b[0;34m)\u001b[0m\u001b[0;34m\u001b[0m\u001b[0;34m\u001b[0m\u001b[0m\n\u001b[0m",
      "\u001b[0;31mNameError\u001b[0m: name 'frame' is not defined"
     ]
    }
   ],
   "source": [
    "frame.to_csv('data.csv')"
   ]
  },
  {
   "cell_type": "code",
   "execution_count": 4,
   "metadata": {},
   "outputs": [],
   "source": [
    "data = pd.read_csv('data.csv')"
   ]
  },
  {
   "cell_type": "code",
   "execution_count": 5,
   "metadata": {},
   "outputs": [
    {
     "data": {
      "text/html": [
       "<div>\n",
       "<style scoped>\n",
       "    .dataframe tbody tr th:only-of-type {\n",
       "        vertical-align: middle;\n",
       "    }\n",
       "\n",
       "    .dataframe tbody tr th {\n",
       "        vertical-align: top;\n",
       "    }\n",
       "\n",
       "    .dataframe thead th {\n",
       "        text-align: right;\n",
       "    }\n",
       "</style>\n",
       "<table border=\"1\" class=\"dataframe\">\n",
       "  <thead>\n",
       "    <tr style=\"text-align: right;\">\n",
       "      <th></th>\n",
       "      <th>geoName</th>\n",
       "      <th>AIDS (Acquired Immune Deficiency Syndrome)</th>\n",
       "      <th>ALS (Amyotrophic Lateral Sclerosis)</th>\n",
       "      <th>Abdominal Aortic Aneurysm</th>\n",
       "      <th>African Trypanosomiasis</th>\n",
       "      <th>AHF (Alkhurma hemorrhagic fever)</th>\n",
       "      <th>Alzheimers</th>\n",
       "      <th>Amebiasis</th>\n",
       "      <th>American Trypanosomiasis</th>\n",
       "      <th>Anaplasmosis</th>\n",
       "      <th>...</th>\n",
       "      <th>Vaginal and Vulvar Cancers</th>\n",
       "      <th>Valley Fever Coccidioidomycosis</th>\n",
       "      <th>Varicella Disease</th>\n",
       "      <th>Vibriosis</th>\n",
       "      <th>Whitmores Disease</th>\n",
       "      <th>Yellow Fever</th>\n",
       "      <th>Yersiniosis</th>\n",
       "      <th>Zoonotic Hookworm</th>\n",
       "      <th>Zoster</th>\n",
       "      <th>Zygomycosis</th>\n",
       "    </tr>\n",
       "  </thead>\n",
       "  <tbody>\n",
       "    <tr>\n",
       "      <td>0</td>\n",
       "      <td>Abilene-Sweetwater TX</td>\n",
       "      <td>0</td>\n",
       "      <td>0</td>\n",
       "      <td>0</td>\n",
       "      <td>0</td>\n",
       "      <td>0</td>\n",
       "      <td>100</td>\n",
       "      <td>0</td>\n",
       "      <td>0</td>\n",
       "      <td>0</td>\n",
       "      <td>...</td>\n",
       "      <td>0</td>\n",
       "      <td>0</td>\n",
       "      <td>0</td>\n",
       "      <td>0</td>\n",
       "      <td>0</td>\n",
       "      <td>0</td>\n",
       "      <td>0</td>\n",
       "      <td>0</td>\n",
       "      <td>100</td>\n",
       "      <td>0</td>\n",
       "    </tr>\n",
       "    <tr>\n",
       "      <td>1</td>\n",
       "      <td>Ain</td>\n",
       "      <td>0</td>\n",
       "      <td>0</td>\n",
       "      <td>0</td>\n",
       "      <td>0</td>\n",
       "      <td>0</td>\n",
       "      <td>0</td>\n",
       "      <td>0</td>\n",
       "      <td>0</td>\n",
       "      <td>0</td>\n",
       "      <td>...</td>\n",
       "      <td>0</td>\n",
       "      <td>0</td>\n",
       "      <td>0</td>\n",
       "      <td>0</td>\n",
       "      <td>0</td>\n",
       "      <td>0</td>\n",
       "      <td>0</td>\n",
       "      <td>0</td>\n",
       "      <td>0</td>\n",
       "      <td>0</td>\n",
       "    </tr>\n",
       "    <tr>\n",
       "      <td>2</td>\n",
       "      <td>Aisne</td>\n",
       "      <td>0</td>\n",
       "      <td>0</td>\n",
       "      <td>0</td>\n",
       "      <td>0</td>\n",
       "      <td>0</td>\n",
       "      <td>0</td>\n",
       "      <td>0</td>\n",
       "      <td>0</td>\n",
       "      <td>0</td>\n",
       "      <td>...</td>\n",
       "      <td>0</td>\n",
       "      <td>0</td>\n",
       "      <td>0</td>\n",
       "      <td>0</td>\n",
       "      <td>0</td>\n",
       "      <td>0</td>\n",
       "      <td>0</td>\n",
       "      <td>0</td>\n",
       "      <td>0</td>\n",
       "      <td>0</td>\n",
       "    </tr>\n",
       "    <tr>\n",
       "      <td>3</td>\n",
       "      <td>Albany GA</td>\n",
       "      <td>0</td>\n",
       "      <td>0</td>\n",
       "      <td>0</td>\n",
       "      <td>0</td>\n",
       "      <td>0</td>\n",
       "      <td>100</td>\n",
       "      <td>0</td>\n",
       "      <td>0</td>\n",
       "      <td>0</td>\n",
       "      <td>...</td>\n",
       "      <td>0</td>\n",
       "      <td>0</td>\n",
       "      <td>0</td>\n",
       "      <td>0</td>\n",
       "      <td>0</td>\n",
       "      <td>0</td>\n",
       "      <td>0</td>\n",
       "      <td>0</td>\n",
       "      <td>0</td>\n",
       "      <td>0</td>\n",
       "    </tr>\n",
       "    <tr>\n",
       "      <td>4</td>\n",
       "      <td>Albany-Schenectady-Troy NY</td>\n",
       "      <td>0</td>\n",
       "      <td>0</td>\n",
       "      <td>100</td>\n",
       "      <td>0</td>\n",
       "      <td>0</td>\n",
       "      <td>74</td>\n",
       "      <td>0</td>\n",
       "      <td>0</td>\n",
       "      <td>26</td>\n",
       "      <td>...</td>\n",
       "      <td>0</td>\n",
       "      <td>0</td>\n",
       "      <td>0</td>\n",
       "      <td>0</td>\n",
       "      <td>0</td>\n",
       "      <td>100</td>\n",
       "      <td>1</td>\n",
       "      <td>0</td>\n",
       "      <td>46</td>\n",
       "      <td>0</td>\n",
       "    </tr>\n",
       "  </tbody>\n",
       "</table>\n",
       "<p>5 rows × 234 columns</p>\n",
       "</div>"
      ],
      "text/plain": [
       "                      geoName  AIDS (Acquired Immune Deficiency Syndrome)  \\\n",
       "0       Abilene-Sweetwater TX                                           0   \n",
       "1                         Ain                                           0   \n",
       "2                       Aisne                                           0   \n",
       "3                   Albany GA                                           0   \n",
       "4  Albany-Schenectady-Troy NY                                           0   \n",
       "\n",
       "   ALS (Amyotrophic Lateral Sclerosis)  Abdominal Aortic Aneurysm  \\\n",
       "0                                    0                          0   \n",
       "1                                    0                          0   \n",
       "2                                    0                          0   \n",
       "3                                    0                          0   \n",
       "4                                    0                        100   \n",
       "\n",
       "   African Trypanosomiasis  AHF (Alkhurma hemorrhagic fever)  Alzheimers  \\\n",
       "0                        0                                 0         100   \n",
       "1                        0                                 0           0   \n",
       "2                        0                                 0           0   \n",
       "3                        0                                 0         100   \n",
       "4                        0                                 0          74   \n",
       "\n",
       "   Amebiasis  American Trypanosomiasis  Anaplasmosis  ...  \\\n",
       "0          0                         0             0  ...   \n",
       "1          0                         0             0  ...   \n",
       "2          0                         0             0  ...   \n",
       "3          0                         0             0  ...   \n",
       "4          0                         0            26  ...   \n",
       "\n",
       "   Vaginal and Vulvar Cancers  Valley Fever Coccidioidomycosis  \\\n",
       "0                           0                                0   \n",
       "1                           0                                0   \n",
       "2                           0                                0   \n",
       "3                           0                                0   \n",
       "4                           0                                0   \n",
       "\n",
       "   Varicella Disease  Vibriosis  Whitmores Disease  Yellow Fever  \\\n",
       "0                  0          0                  0             0   \n",
       "1                  0          0                  0             0   \n",
       "2                  0          0                  0             0   \n",
       "3                  0          0                  0             0   \n",
       "4                  0          0                  0           100   \n",
       "\n",
       "   Yersiniosis   Zoonotic Hookworm  Zoster  Zygomycosis   \n",
       "0             0                  0     100             0  \n",
       "1             0                  0       0             0  \n",
       "2             0                  0       0             0  \n",
       "3             0                  0       0             0  \n",
       "4             1                  0      46             0  \n",
       "\n",
       "[5 rows x 234 columns]"
      ]
     },
     "execution_count": 5,
     "metadata": {},
     "output_type": "execute_result"
    }
   ],
   "source": [
    "data.head()"
   ]
  },
  {
   "cell_type": "code",
   "execution_count": 6,
   "metadata": {},
   "outputs": [],
   "source": [
    "data1 = data[data['geoName'] == 'San Francisco-Oakland-San Jose CA']"
   ]
  },
  {
   "cell_type": "code",
   "execution_count": 7,
   "metadata": {},
   "outputs": [
    {
     "name": "stdout",
     "output_type": "stream",
     "text": [
      "['San Francisco-Oakland-San Jose CA' 0 8 88 4 0 95 3 0 2 0 10 4 86 0 0 41\n",
      " 0 100 0 0 0 74 3 22 0 3 90 0 7 0 6 0 94 11 24 0 0 0 0 0 100 0 0 0 0 0 0\n",
      " 98 2 87 5 0 7 13 82 0 0 47 3 17 33 11 59 15 0 0 0 99 1 0 15 78 0 5 1 0 94\n",
      " 0 35 41 0 0 0 0 87 0 0 94 0 100 0 0 0 0 4 30 66 0 29 0 1 77 6 13 0 39 61\n",
      " 0 0 100 0 0 0 82 18 0 0 4 0 95 1 2 12 5 81 1 0 0 0 49 43 0 8 43 0 47 0 94\n",
      " 0 6 0 20 0 44 36 0 0 0 5 3 4 89 1 96 0 0 0 0 0 0 100 0 30 0 0 0 71 29 0 0\n",
      " 41 0 59 1 1 0 0 0 56 7 37 0 0 0 69 1 0 0 47 0 6 51 35 0 15 0 0 54 0 44 2\n",
      " 1 30 0 68 25 6 0 14 0 0 0 45 15 3 7 27 0 62 0 23 0 9 0 0 0 0 0 100 0 0 49\n",
      " 0]\n"
     ]
    }
   ],
   "source": [
    "l1 = []\n",
    "for val in data1.values:\n",
    "    print(val)\n",
    "    l1.append(val)"
   ]
  },
  {
   "cell_type": "markdown",
   "metadata": {},
   "source": [
    "l1"
   ]
  },
  {
   "cell_type": "code",
   "execution_count": 8,
   "metadata": {},
   "outputs": [],
   "source": [
    "l2 = l1[0][1:]"
   ]
  },
  {
   "cell_type": "code",
   "execution_count": 9,
   "metadata": {},
   "outputs": [],
   "source": [
    "l2.sort()"
   ]
  },
  {
   "cell_type": "code",
   "execution_count": 10,
   "metadata": {},
   "outputs": [],
   "source": [
    "l2 = list(dict.fromkeys(l2))"
   ]
  },
  {
   "cell_type": "code",
   "execution_count": 11,
   "metadata": {},
   "outputs": [],
   "source": [
    "l2 = l2[-20:]"
   ]
  },
  {
   "cell_type": "code",
   "execution_count": 12,
   "metadata": {},
   "outputs": [],
   "source": [
    "dl = []\n",
    "for col in data1.columns:\n",
    "    if data1[col].values[0] in l2:\n",
    "        dl.append(col)"
   ]
  },
  {
   "cell_type": "code",
   "execution_count": 21,
   "metadata": {},
   "outputs": [
    {
     "data": {
      "text/plain": [
       "['Abdominal Aortic Aneurysm',\n",
       " 'Alzheimers',\n",
       " 'Arthritis',\n",
       " 'Autism',\n",
       " 'Bacterial Vaginosis',\n",
       " 'Bird Flu',\n",
       " 'Breast Cancer',\n",
       " 'CKD (Kidney Disease)',\n",
       " 'Campy',\n",
       " 'Candidiasis',\n",
       " 'Carpal Tunnel Syndrome',\n",
       " 'Diabetes',\n",
       " 'Down Syndrome',\n",
       " 'Epilepsy',\n",
       " 'Giardiasis',\n",
       " 'Gonorrhea ',\n",
       " 'H1N1 Flu',\n",
       " 'Herpes',\n",
       " 'Hypertension',\n",
       " 'Jaundice',\n",
       " 'Keratitis',\n",
       " 'Lead Poisoning',\n",
       " 'Lice',\n",
       " 'Meningitis',\n",
       " 'Osteoarthritis',\n",
       " 'Oral Cancer',\n",
       " 'Pandemic Flu',\n",
       " 'Plague',\n",
       " 'Scabies',\n",
       " 'Ticks',\n",
       " 'Yellow Fever']"
      ]
     },
     "execution_count": 21,
     "metadata": {},
     "output_type": "execute_result"
    }
   ],
   "source": [
    "dl"
   ]
  },
  {
   "cell_type": "code",
   "execution_count": 11,
   "metadata": {},
   "outputs": [],
   "source": [
    "index = 1\n",
    "for val in dl:\n",
    "with open(f'{name[10]}.csv',\"a\") as f:\n",
    "    f.write(f\"{index},{val}\\n\")\n",
    "    index += 1"
   ]
  },
  {
   "cell_type": "code",
   "execution_count": 12,
   "metadata": {},
   "outputs": [],
   "source": [
    "for val in data['geoName']:\n",
    "    data1 = data[data['geoName'] == val]\n",
    "    l1 = []\n",
    "    for val in data1.values:\n",
    "        l1.append(val)\n",
    "    l2 = l1[0][1:]\n",
    "    l2.sort()\n",
    "    l2 = list(dict.fromkeys(l2))\n",
    "    l2 = l2[-5:]\n",
    "    dl = []\n",
    "    for col in data1.columns:\n",
    "        if data1[col].values[0] in l2:\n",
    "            dl.append(col)\n",
    "    make_csv(dl,val)"
   ]
  },
  {
   "cell_type": "code",
   "execution_count": 6,
   "metadata": {},
   "outputs": [],
   "source": [
    "data2 = pd.read_csv('disease-drug.csv')"
   ]
  },
  {
   "cell_type": "code",
   "execution_count": 26,
   "metadata": {},
   "outputs": [
    {
     "data": {
      "text/plain": [
       "<matplotlib.axes._subplots.AxesSubplot at 0x10629fad0>"
      ]
     },
     "execution_count": 26,
     "metadata": {},
     "output_type": "execute_result"
    },
    {
     "data": {
      "image/png": "[encoded data removed]",
      "text/plain": [
       "<Figure size 432x288 with 1 Axes>"
      ]
     },
     "metadata": {
      "needs_background": "light"
     },
     "output_type": "display_data"
    }
   ],
   "source": [
    "import seaborn as sns\n",
    "sns.heatmap(data2.isnull(), yticklabels=False, cbar=False, cmap='viridis')"
   ]
  },
  {
   "cell_type": "code",
   "execution_count": 20,
   "metadata": {},
   "outputs": [
    {
     "name": "stdout",
     "output_type": "stream",
     "text": [
      "name\n",
      "drug__-\n",
      "drugs__001\n",
      "drugs__002\n",
      "drugs__003\n",
      "drugs__004\n"
     ]
    }
   ],
   "source": [
    "for cols in data2.columns:\n",
    "    print(cols)"
   ]
  },
  {
   "cell_type": "code",
   "execution_count": 7,
   "metadata": {},
   "outputs": [],
   "source": [
    "data2.drop('drug__-',axis=1, inplace = True)\n",
    "data2.drop('drugs__004',axis=1,inplace=True)"
   ]
  },
  {
   "cell_type": "code",
   "execution_count": 8,
   "metadata": {},
   "outputs": [
    {
     "data": {
      "text/plain": [
       "0                                         Anxiety\n",
       "1      AIDS (Acquired Immune Deficiency Syndrome)\n",
       "2             ALS (Amyotrophic Lateral Sclerosis)\n",
       "3                       Abdominal Aortic Aneurysm\n",
       "4                         African Trypanosomiasis\n",
       "                          ...                    \n",
       "232                                  Yellow Fever\n",
       "233                                  Yersiniosis \n",
       "234                             Zoonotic Hookworm\n",
       "235                                        Zoster\n",
       "236                                  Zygomycosis \n",
       "Name: name, Length: 237, dtype: object"
      ]
     },
     "execution_count": 8,
     "metadata": {},
     "output_type": "execute_result"
    }
   ],
   "source": [
    "data2['name']"
   ]
  },
  {
   "cell_type": "code",
   "execution_count": 33,
   "metadata": {},
   "outputs": [
    {
     "data": {
      "text/plain": [
       "(237, 4)"
      ]
     },
     "execution_count": 33,
     "metadata": {},
     "output_type": "execute_result"
    }
   ],
   "source": [
    "data2.shape"
   ]
  },
  {
   "cell_type": "code",
   "execution_count": null,
   "metadata": {},
   "outputs": [],
   "source": []
  }
 ],
 "metadata": {
  "kernelspec": {
   "display_name": "Python 3",
   "language": "python",
   "name": "python3"
  },
  "language_info": {
   "codemirror_mode": {
    "name": "ipython",
    "version": 3
   },
   "file_extension": ".py",
   "mimetype": "text/x-python",
   "name": "python",
   "nbconvert_exporter": "python",
   "pygments_lexer": "ipython3",
   "version": "3.7.4"
  }
 },
 "nbformat": 4,
 "nbformat_minor": 2
}
